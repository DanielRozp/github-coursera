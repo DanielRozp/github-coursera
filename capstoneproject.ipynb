{
 "cells": [
  {
   "cell_type": "markdown",
   "metadata": {},
   "source": [
    "# Capstone Project - Introduction and Bussiness Problem - What should we do in Madrid?"
   ]
  },
  {
   "cell_type": "markdown",
   "metadata": {},
   "source": [
    "Hello!\n",
    "In this project i would like to analyze two hundred venues from Madrid, see the categories of this venues and the likes it got.\n",
    "When im going to do some tourism or sightseeing in Madrid with my friends, we usually have troubles to decide where to go, what we should see or even in which place should we eat. To solve this common problem i want to use the Foursquare API to extract two hundred of venues in the center of Madrid and see which venue is the most popular of each categorie, and who knows, maybe also model the venues as clusters.\n",
    "Shall we star?\n"
   ]
  },
  {
   "cell_type": "markdown",
   "metadata": {},
   "source": [
    "### Introduction"
   ]
  },
  {
   "cell_type": "markdown",
   "metadata": {},
   "source": [
    "Madrid is one of the most visited cities in Spain, in 2018 has received 4.100.099 spanish tourist and 5.176.908 foreign tourists, becoming the most visited spanish city by Spanish tourists and the second most visited spanish city by foreign tourists behind of Barcelona (data taken from INE - Spanish Statistics National Institute).\n",
    "But despite of that, even with this huge amount of tourists, peopli still dont know where go to eat, what should they visit... So for this i would like to create this project, to extract two hundred Madrid venues via Foursquare API and see which venue is the most popular of each categorie and create clusters."
   ]
  },
  {
   "cell_type": "markdown",
   "metadata": {},
   "source": [
    "### Business Problem"
   ]
  },
  {
   "cell_type": "markdown",
   "metadata": {},
   "source": [
    "As i said before, tourists can be confuse because of the huge amount of restaurants, pubs, monuments... What Madrid has, so with this analyze i will help them to decide what shoul they do in this beautiful city. "
   ]
  },
  {
   "cell_type": "markdown",
   "metadata": {},
   "source": [
    "### Data"
   ]
  },
  {
   "cell_type": "markdown",
   "metadata": {},
   "source": [
    "For this project i will extract the data from Foursquare API and im gonna have this columns:\n",
    "\n",
    " * Name\n",
    " * Id\n",
    " * Category\n",
    " * Clas Category\n",
    " * Latitud\n",
    " * Longitude\n",
    " * Likes\n",
    " * Category per likes \n",
    " * Cluster label"
   ]
  },
  {
   "cell_type": "code",
   "execution_count": null,
   "metadata": {},
   "outputs": [],
   "source": []
  },
  {
   "cell_type": "code",
   "execution_count": null,
   "metadata": {},
   "outputs": [],
   "source": []
  },
  {
   "cell_type": "code",
   "execution_count": null,
   "metadata": {},
   "outputs": [],
   "source": []
  },
  {
   "cell_type": "code",
   "execution_count": null,
   "metadata": {},
   "outputs": [],
   "source": []
  }
 ],
 "metadata": {
  "kernelspec": {
   "display_name": "Python 3",
   "language": "python",
   "name": "python3"
  },
  "language_info": {
   "codemirror_mode": {
    "name": "ipython",
    "version": 3
   },
   "file_extension": ".py",
   "mimetype": "text/x-python",
   "name": "python",
   "nbconvert_exporter": "python",
   "pygments_lexer": "ipython3",
   "version": "3.6.5"
  }
 },
 "nbformat": 4,
 "nbformat_minor": 2
}
